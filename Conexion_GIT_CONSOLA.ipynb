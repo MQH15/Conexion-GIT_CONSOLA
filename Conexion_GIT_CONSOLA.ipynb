{
 "cells": [
  {
   "cell_type": "markdown",
   "metadata": {},
   "source": [
    "# Creando mi REPO en github desde la Terminal en Linux"
   ]
  },
  {
   "cell_type": "markdown",
   "metadata": {},
   "source": [
    "Primero tenemos que conectar la cuenta github creada en la web, con una ruta en la PC donde correremos e codigo en shell desde la terminal esto desde linux"
   ]
  },
  {
   "cell_type": "markdown",
   "metadata": {},
   "source": [
    "1.- Verificamos en que ruta estamos."
   ]
  },
  {
   "cell_type": "code",
   "execution_count": 1,
   "metadata": {},
   "outputs": [
    {
     "name": "stdout",
     "output_type": "stream",
     "text": [
      "/home/dsc\n"
     ]
    }
   ],
   "source": [
    "cd"
   ]
  },
  {
   "cell_type": "markdown",
   "metadata": {},
   "source": [
    "vemos que estamos en esta ruta /home/dsc, que es la home del sistema linux,  esto en window quiere decir desde la ruta del usuario de la maquina."
   ]
  },
  {
   "cell_type": "markdown",
   "metadata": {},
   "source": [
    "2.- Cambiando de ruta."
   ]
  },
  {
   "cell_type": "code",
   "execution_count": 2,
   "metadata": {},
   "outputs": [
    {
     "name": "stdout",
     "output_type": "stream",
     "text": [
      "/home/dsc/Data/first_dir\n"
     ]
    }
   ],
   "source": [
    "cd ./Data/first_dir/"
   ]
  },
  {
   "cell_type": "markdown",
   "metadata": {},
   "source": [
    "el comando cd te permite cambiar la ruta en la que trabajas dentro del terminal. Puedes usar la tecla \"TAB\" para ver que archivos estan dentro de la ruta actual."
   ]
  },
  {
   "cell_type": "markdown",
   "metadata": {},
   "source": [
    "3.- Verificando que archivos ocultos y no ocultos estan en la ruta donde nos encontramos."
   ]
  },
  {
   "cell_type": "code",
   "execution_count": 3,
   "metadata": {
    "scrolled": false
   },
   "outputs": [
    {
     "name": "stdout",
     "output_type": "stream",
     "text": [
      "total 16\r\n",
      "drwxr-xr-x 4 dsc dsc 4096 nov 26 23:33 \u001b[0m\u001b[01;34m.\u001b[0m/\r\n",
      "drwxr-x--- 8 dsc dsc 4096 dic 18 00:52 \u001b[01;34m..\u001b[0m/\r\n",
      "drwxr-xr-x 2 dsc dsc 4096 nov 26 23:28 \u001b[01;34msub_3\u001b[0m/\r\n",
      "drwxr-xr-x 2 dsc dsc 4096 nov 26 23:24 \u001b[01;34mtext_file\u001b[0m/\r\n",
      "-rw-r-xr-- 1 dsc dsc    0 nov 26 23:31 \u001b[01;32m.text_file.txt.backup\u001b[0m*\r\n"
     ]
    }
   ],
   "source": [
    "ls -la"
   ]
  },
  {
   "cell_type": "markdown",
   "metadata": {},
   "source": [
    "En la ruta first_dir tenemos los archivos mostrados linea arriba, los archivos que inician con . son aquellos ocultos"
   ]
  },
  {
   "cell_type": "markdown",
   "metadata": {},
   "source": [
    "4.- Iniciaremos creando la conexion de la cuenta github con la ruta de la PC"
   ]
  },
  {
   "cell_type": "markdown",
   "metadata": {},
   "source": [
    "4.1 .- Verificando que tenemos instalado git"
   ]
  },
  {
   "cell_type": "code",
   "execution_count": 4,
   "metadata": {},
   "outputs": [
    {
     "name": "stdout",
     "output_type": "stream",
     "text": [
      "git version 2.14.1\r\n"
     ]
    }
   ],
   "source": [
    "!git --version"
   ]
  },
  {
   "cell_type": "markdown",
   "metadata": {},
   "source": [
    "4.2 .- Nos ubicamos en la ruta que queremos inicializar github, en mi caso sera una carpeta creada Master-Data-Science"
   ]
  },
  {
   "cell_type": "code",
   "execution_count": 9,
   "metadata": {},
   "outputs": [
    {
     "name": "stdout",
     "output_type": "stream",
     "text": [
      "/home/dsc/Repos\n"
     ]
    }
   ],
   "source": [
    "cd ~/Repos"
   ]
  },
  {
   "cell_type": "markdown",
   "metadata": {},
   "source": [
    "4.3 Creamos la carpeta Conexion-GIT_CONSOLA"
   ]
  },
  {
   "cell_type": "code",
   "execution_count": 10,
   "metadata": {},
   "outputs": [],
   "source": [
    "mkdir Conexion-GIT_CONSOLA"
   ]
  },
  {
   "cell_type": "markdown",
   "metadata": {},
   "source": [
    "4.4 Entramos en esa carpeta"
   ]
  },
  {
   "cell_type": "code",
   "execution_count": 11,
   "metadata": {
    "scrolled": false
   },
   "outputs": [
    {
     "name": "stdout",
     "output_type": "stream",
     "text": [
      "/home/dsc/Repos/Conexion-GIT_CONSOLA\n"
     ]
    }
   ],
   "source": [
    "cd ./Conexion-GIT_CONSOLA"
   ]
  },
  {
   "cell_type": "markdown",
   "metadata": {},
   "source": [
    "4.5 Creamos los accesos nombre y cuenta, para despues conectar y actualizar la web"
   ]
  },
  {
   "cell_type": "code",
   "execution_count": 57,
   "metadata": {
    "scrolled": true
   },
   "outputs": [],
   "source": [
    "!git config --global user.name \"Michael Quintana\""
   ]
  },
  {
   "cell_type": "code",
   "execution_count": 58,
   "metadata": {},
   "outputs": [],
   "source": [
    "!git config --global user.email \"miquintahu@gmail.com\""
   ]
  },
  {
   "cell_type": "markdown",
   "metadata": {},
   "source": [
    "4.6 Iniciamos git, esto convierte la carpeta en repositorio para despues conectarlo a la web"
   ]
  },
  {
   "cell_type": "code",
   "execution_count": 12,
   "metadata": {
    "scrolled": false
   },
   "outputs": [
    {
     "name": "stdout",
     "output_type": "stream",
     "text": [
      "Initialized empty Git repository in /home/dsc/Repos/Conexion-GIT_CONSOLA/.git/\n",
      "total 12\n",
      "drwxr-xr-x 3 dsc dsc 4096 dic 20 02:55 .\n",
      "drwxr-xr-x 5 dsc dsc 4096 dic 20 02:55 ..\n",
      "drwxr-xr-x 7 dsc dsc 4096 dic 20 02:55 .git\n"
     ]
    }
   ],
   "source": [
    "!git init\n",
    "!ls -la"
   ]
  },
  {
   "cell_type": "markdown",
   "metadata": {},
   "source": [
    "4.7 Creamos el archivo README.md"
   ]
  },
  {
   "cell_type": "code",
   "execution_count": 13,
   "metadata": {},
   "outputs": [],
   "source": [
    "!touch README.md"
   ]
  },
  {
   "cell_type": "markdown",
   "metadata": {},
   "source": [
    "4.8 Creamos una carpeta y dentro de ella colocamos archivos .csv que subiremos desde la PC"
   ]
  },
  {
   "cell_type": "code",
   "execution_count": 14,
   "metadata": {},
   "outputs": [],
   "source": [
    "mkdir POSTGRESS_SQL"
   ]
  },
  {
   "cell_type": "code",
   "execution_count": 15,
   "metadata": {},
   "outputs": [
    {
     "name": "stdout",
     "output_type": "stream",
     "text": [
      "/home/dsc/Repos/Conexion-GIT_CONSOLA/POSTGRESS_SQL\n"
     ]
    }
   ],
   "source": [
    "cd ./POSTGRESS_SQL"
   ]
  },
  {
   "cell_type": "markdown",
   "metadata": {},
   "source": [
    "Archivo N1"
   ]
  },
  {
   "cell_type": "code",
   "execution_count": 16,
   "metadata": {},
   "outputs": [],
   "source": [
    "cp /home/dsc/postgres/my_fb_friends.csv my_fb_friends.csv"
   ]
  },
  {
   "cell_type": "markdown",
   "metadata": {},
   "source": [
    "Archivo N2"
   ]
  },
  {
   "cell_type": "code",
   "execution_count": 17,
   "metadata": {},
   "outputs": [],
   "source": [
    "cp /home/dsc/postgres/my_ldin_contacts.csv my_ldin_contacts.csv"
   ]
  },
  {
   "cell_type": "markdown",
   "metadata": {},
   "source": [
    "Volvemos a la carpeta Conexion-GIT_CONSOLA"
   ]
  },
  {
   "cell_type": "code",
   "execution_count": 18,
   "metadata": {},
   "outputs": [
    {
     "name": "stdout",
     "output_type": "stream",
     "text": [
      "/home/dsc/Repos/Conexion-GIT_CONSOLA\n"
     ]
    }
   ],
   "source": [
    "cd .."
   ]
  },
  {
   "cell_type": "markdown",
   "metadata": {},
   "source": [
    "Entonces vemos que archivos ya tenemos en la carpeta:"
   ]
  },
  {
   "cell_type": "code",
   "execution_count": 19,
   "metadata": {},
   "outputs": [
    {
     "name": "stdout",
     "output_type": "stream",
     "text": [
      "total 16\r\n",
      "drwxr-xr-x 4 dsc dsc 4096 dic 20 02:55 \u001b[0m\u001b[01;34m.\u001b[0m/\r\n",
      "drwxr-xr-x 5 dsc dsc 4096 dic 20 02:55 \u001b[01;34m..\u001b[0m/\r\n",
      "drwxr-xr-x 7 dsc dsc 4096 dic 20 02:55 \u001b[01;34m.git\u001b[0m/\r\n",
      "drwxr-xr-x 2 dsc dsc 4096 dic 20 02:55 \u001b[01;34mPOSTGRESS_SQL\u001b[0m/\r\n",
      "-rw-r--r-- 1 dsc dsc    0 dic 20 02:55 README.md\r\n"
     ]
    }
   ],
   "source": [
    "ls -la"
   ]
  },
  {
   "cell_type": "markdown",
   "metadata": {},
   "source": [
    "4.9 Asimismo cargaremos todo el codigo en bruto que hemos estado trabajando hasta ahora para crear este ejercicio."
   ]
  },
  {
   "cell_type": "code",
   "execution_count": 20,
   "metadata": {},
   "outputs": [],
   "source": [
    "cat -n ~/.history | tail -n 300 > Historia_Codigo.txt"
   ]
  },
  {
   "cell_type": "markdown",
   "metadata": {},
   "source": [
    "Ahora editamos el archivo README.md"
   ]
  },
  {
   "cell_type": "code",
   "execution_count": 21,
   "metadata": {},
   "outputs": [],
   "source": [
    "!gedit README.md"
   ]
  },
  {
   "cell_type": "markdown",
   "metadata": {},
   "source": [
    "Agregamos las siguientes lineas en la ventana que sale:\n",
    "\n",
    ". desde el numeral: # Creando el repositorio Conexion-GIT_CONSOLA\n",
    "\n",
    "Creando el archivo README.md\n",
    "\n",
    "Cargando dos archivos .csv en la carpeta POSTGRES_SQL\n",
    "\n",
    "Creando el archivo Historia_Codigo.txt\n",
    "\n",
    "FIN...\n",
    "\n",
    "luego guardas y cierras"
   ]
  },
  {
   "cell_type": "markdown",
   "metadata": {},
   "source": [
    "4.9 Cargamos todo el trabajo que hicimos a la web de github"
   ]
  },
  {
   "cell_type": "markdown",
   "metadata": {},
   "source": [
    "4.9.1 Paso_1"
   ]
  },
  {
   "cell_type": "code",
   "execution_count": 22,
   "metadata": {},
   "outputs": [],
   "source": [
    "!git add README.md"
   ]
  },
  {
   "cell_type": "code",
   "execution_count": 23,
   "metadata": {},
   "outputs": [],
   "source": [
    "!git add POSTGRESS_SQL"
   ]
  },
  {
   "cell_type": "code",
   "execution_count": 24,
   "metadata": {},
   "outputs": [],
   "source": [
    "!git add Historia_Codigo.txt"
   ]
  },
  {
   "cell_type": "markdown",
   "metadata": {},
   "source": [
    "4.9.2 Paso_2"
   ]
  },
  {
   "cell_type": "code",
   "execution_count": 25,
   "metadata": {
    "scrolled": true
   },
   "outputs": [
    {
     "name": "stdout",
     "output_type": "stream",
     "text": [
      "[master (root-commit) 7c3004f] agregando README\r\n",
      " 1 file changed, 9 insertions(+)\r\n",
      " create mode 100644 README.md\r\n"
     ]
    }
   ],
   "source": [
    "!git commit -m \"agregando README\" README.md"
   ]
  },
  {
   "cell_type": "code",
   "execution_count": 26,
   "metadata": {},
   "outputs": [
    {
     "name": "stdout",
     "output_type": "stream",
     "text": [
      "[master edd3c25] agregando carpeta\r\n",
      " 2 files changed, 11 insertions(+)\r\n",
      " create mode 100644 POSTGRESS_SQL/my_fb_friends.csv\r\n",
      " create mode 100644 POSTGRESS_SQL/my_ldin_contacts.csv\r\n"
     ]
    }
   ],
   "source": [
    "!git commit -m \"agregando carpeta\" POSTGRESS_SQL/"
   ]
  },
  {
   "cell_type": "code",
   "execution_count": 27,
   "metadata": {
    "scrolled": true
   },
   "outputs": [
    {
     "name": "stdout",
     "output_type": "stream",
     "text": [
      "[master ea4d055] agregando historia\r\n",
      " 1 file changed, 300 insertions(+)\r\n",
      " create mode 100644 Historia_Codigo.txt\r\n"
     ]
    }
   ],
   "source": [
    "!git commit -m \"agregando historia\" Historia_Codigo.txt"
   ]
  },
  {
   "cell_type": "markdown",
   "metadata": {},
   "source": [
    "4.9.3 Paso_3"
   ]
  },
  {
   "cell_type": "markdown",
   "metadata": {},
   "source": [
    "Verificamos que los commits esten correctos"
   ]
  },
  {
   "cell_type": "code",
   "execution_count": 28,
   "metadata": {},
   "outputs": [
    {
     "name": "stdout",
     "output_type": "stream",
     "text": [
      "\u001b[33mcommit ea4d0558c3aba7c3333aeb30a13d5b9e75f6dcac\u001b[m\u001b[33m (\u001b[m\u001b[1;36mHEAD -> \u001b[m\u001b[1;32mmaster\u001b[m\u001b[33m)\u001b[m\r\n",
      "Author: Michael Quintana <miquintahu@gmail.com>\r\n",
      "Date:   Thu Dec 20 02:57:23 2018 +0100\r\n",
      "\r\n",
      "    agregando historia\r\n",
      "\r\n",
      "\u001b[33mcommit edd3c252daa055c4dee8bcafe920a7ca4c773849\u001b[m\r\n",
      "Author: Michael Quintana <miquintahu@gmail.com>\r\n",
      "Date:   Thu Dec 20 02:57:19 2018 +0100\r\n",
      "\r\n",
      "    agregando carpeta\r\n",
      "\r\n",
      "\u001b[33mcommit 7c3004f1482d4205edde1693b8f24ca722cb8338\u001b[m\r\n",
      "Author: Michael Quintana <miquintahu@gmail.com>\r\n",
      "Date:   Thu Dec 20 02:57:15 2018 +0100\r\n",
      "\r\n",
      "    agregando README\r\n"
     ]
    }
   ],
   "source": [
    "!git log"
   ]
  },
  {
   "cell_type": "markdown",
   "metadata": {},
   "source": [
    "Creamos un remoto que nos permitira conectarnos a la web"
   ]
  },
  {
   "cell_type": "code",
   "execution_count": 29,
   "metadata": {},
   "outputs": [],
   "source": [
    "!git remote add origin https://github.com/MQH15/Conexion-GIT_CONSOLA.git"
   ]
  },
  {
   "cell_type": "code",
   "execution_count": 184,
   "metadata": {},
   "outputs": [
    {
     "name": "stdout",
     "output_type": "stream",
     "text": [
      "Username for 'https://github.com': ^C\n"
     ]
    }
   ],
   "source": [
    "!git push -u origin master"
   ]
  },
  {
   "cell_type": "markdown",
   "metadata": {},
   "source": [
    "(ojo esta ultima linea de codigo hacerlo desde la consola porque pide usuario y clave de github)"
   ]
  }
 ],
 "metadata": {
  "kernelspec": {
   "display_name": "Python 3",
   "language": "python",
   "name": "python3"
  },
  "language_info": {
   "codemirror_mode": {
    "name": "ipython",
    "version": 3
   },
   "file_extension": ".py",
   "mimetype": "text/x-python",
   "name": "python",
   "nbconvert_exporter": "python",
   "pygments_lexer": "ipython3",
   "version": "3.6.4"
  }
 },
 "nbformat": 4,
 "nbformat_minor": 2
}
